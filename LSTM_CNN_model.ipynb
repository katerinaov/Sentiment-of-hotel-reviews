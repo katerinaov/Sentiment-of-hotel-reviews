{
 "cells": [
  {
   "cell_type": "code",
   "execution_count": 30,
   "metadata": {
    "colab": {
     "base_uri": "https://localhost:8080/",
     "height": 34
    },
    "colab_type": "code",
    "executionInfo": {
     "elapsed": 20230,
     "status": "ok",
     "timestamp": 1554099248309,
     "user": {
      "displayName": "Ekaterina Gurskaia",
      "photoUrl": "https://lh6.googleusercontent.com/-p0GKcvA20Mk/AAAAAAAAAAI/AAAAAAAAABI/qL9bXEWNFxI/s64/photo.jpg",
      "userId": "04190483081127651445"
     },
     "user_tz": -480
    },
    "id": "bmh9HUjzqC5t",
    "outputId": "7a4c6b6a-72df-46be-e7fe-c6f8762c3830"
   },
   "outputs": [],
   "source": [
    "import pandas as pd\n",
    "import numpy as np\n",
    "import operator \n",
    "import re\n",
    "import gc\n",
    "import keras\n",
    "import seaborn as sns\n",
    "import matplotlib.pyplot as plt\n",
    "import pickle"
   ]
  },
  {
   "cell_type": "code",
   "execution_count": 5,
   "metadata": {},
   "outputs": [
    {
     "name": "stdout",
     "output_type": "stream",
     "text": [
      "/Users/kate/Desktop/Hotels_reviews\r\n"
     ]
    }
   ],
   "source": [
    "! pwd"
   ]
  },
  {
   "cell_type": "code",
   "execution_count": 6,
   "metadata": {
    "colab": {},
    "colab_type": "code",
    "id": "8WNPPZyiqDbk"
   },
   "outputs": [
    {
     "name": "stdout",
     "output_type": "stream",
     "text": [
      "GloVe data loaded\n"
     ]
    }
   ],
   "source": [
    "embeddings_index = {}\n",
    "f = open('./glove.840B.300d.txt')\n",
    "for line in f:\n",
    "    values = line.split(' ')\n",
    "    word = values[0] ## The first entry is the word\n",
    "    coefs = np.asarray(values[1:], dtype='float32') ## These are the vecotrs representing the embedding for the word\n",
    "    embeddings_index[word] = coefs\n",
    "f.close()\n",
    "\n",
    "print('GloVe data loaded')\n"
   ]
  },
  {
   "cell_type": "code",
   "execution_count": 7,
   "metadata": {
    "colab": {},
    "colab_type": "code",
    "id": "6mlKCAzGm-Nw"
   },
   "outputs": [
    {
     "name": "stdout",
     "output_type": "stream",
     "text": [
      "<class 'pandas.core.frame.DataFrame'>\n",
      "RangeIndex: 515738 entries, 0 to 515737\n",
      "Data columns (total 2 columns):\n",
      "reviews.text      515738 non-null object\n",
      "reviews.rating    515738 non-null float64\n",
      "dtypes: float64(1), object(1)\n",
      "memory usage: 7.9+ MB\n"
     ]
    }
   ],
   "source": [
    "reviews_515 = pd.read_csv('./data/Hotel_Reviews.csv') \n",
    "reviews_515['reviews.text'] = reviews_515['Negative_Review']+reviews_515['Positive_Review']\n",
    "reviews_515 = reviews_515[['reviews.text', 'Reviewer_Score']]\n",
    "reviews_515['reviews.text'] = reviews_515[\"reviews.text\"].apply(lambda x: x.replace(\"No Negative\", \"\").replace(\"No Positive\", \"\").replace(\"Nothing\", \"\"))\n",
    "reviews_515['reviews.rating'] = reviews_515['Reviewer_Score']/2\n",
    "reviews_515.drop('Reviewer_Score',1,inplace=True)\n",
    "reviews_515.info()"
   ]
  },
  {
   "cell_type": "code",
   "execution_count": 8,
   "metadata": {
    "colab": {},
    "colab_type": "code",
    "id": "IJPpOB41m-V3"
   },
   "outputs": [
    {
     "name": "stdout",
     "output_type": "stream",
     "text": [
      "<class 'pandas.core.frame.DataFrame'>\n",
      "RangeIndex: 35912 entries, 0 to 35911\n",
      "Data columns (total 19 columns):\n",
      "address                 35912 non-null object\n",
      "categories              35912 non-null object\n",
      "city                    35912 non-null object\n",
      "country                 35912 non-null object\n",
      "latitude                35826 non-null float64\n",
      "longitude               35826 non-null float64\n",
      "name                    35912 non-null object\n",
      "postalCode              35857 non-null object\n",
      "province                35912 non-null object\n",
      "reviews.date            35653 non-null object\n",
      "reviews.dateAdded       35912 non-null object\n",
      "reviews.doRecommend     0 non-null float64\n",
      "reviews.id              0 non-null float64\n",
      "reviews.rating          35050 non-null float64\n",
      "reviews.text            35890 non-null object\n",
      "reviews.title           34290 non-null object\n",
      "reviews.userCity        16263 non-null object\n",
      "reviews.username        35869 non-null object\n",
      "reviews.userProvince    17518 non-null object\n",
      "dtypes: float64(5), object(14)\n",
      "memory usage: 5.2+ MB\n"
     ]
    }
   ],
   "source": [
    "reviews_8k = pd.read_csv('./data/7282_1.csv') \n",
    "reviews_8k['reviews.rating']=reviews_8k['reviews.rating']/2\n",
    "reviews_8k.info()"
   ]
  },
  {
   "cell_type": "code",
   "execution_count": 9,
   "metadata": {
    "colab": {},
    "colab_type": "code",
    "id": "qjOzUGvWm-Y8"
   },
   "outputs": [
    {
     "name": "stdout",
     "output_type": "stream",
     "text": [
      "<class 'pandas.core.frame.DataFrame'>\n",
      "RangeIndex: 10000 entries, 0 to 9999\n",
      "Data columns (total 25 columns):\n",
      "id                      10000 non-null object\n",
      "dateAdded               10000 non-null object\n",
      "dateUpdated             10000 non-null object\n",
      "address                 10000 non-null object\n",
      "categories              10000 non-null object\n",
      "primaryCategories       10000 non-null object\n",
      "city                    10000 non-null object\n",
      "country                 10000 non-null object\n",
      "keys                    10000 non-null object\n",
      "latitude                10000 non-null float64\n",
      "longitude               10000 non-null float64\n",
      "name                    10000 non-null object\n",
      "postalCode              10000 non-null object\n",
      "province                10000 non-null object\n",
      "reviews.date            10000 non-null object\n",
      "reviews.dateSeen        10000 non-null object\n",
      "reviews.rating          10000 non-null float64\n",
      "reviews.sourceURLs      10000 non-null object\n",
      "reviews.text            9999 non-null object\n",
      "reviews.title           9999 non-null object\n",
      "reviews.userCity        4164 non-null object\n",
      "reviews.userProvince    2705 non-null object\n",
      "reviews.username        10000 non-null object\n",
      "sourceURLs              10000 non-null object\n",
      "websites                10000 non-null object\n",
      "dtypes: float64(3), object(22)\n",
      "memory usage: 1.9+ MB\n"
     ]
    }
   ],
   "source": [
    "reviews_datafinity = pd.read_csv('./data/Datafiniti_Hotel_Reviews.csv')\n",
    "reviews_datafinity.info()"
   ]
  },
  {
   "cell_type": "code",
   "execution_count": 10,
   "metadata": {
    "colab": {},
    "colab_type": "code",
    "id": "ZzW-_jWBm-cA"
   },
   "outputs": [
    {
     "name": "stdout",
     "output_type": "stream",
     "text": [
      "<class 'pandas.core.frame.DataFrame'>\n",
      "RangeIndex: 8534 entries, 0 to 8533\n",
      "Data columns (total 5 columns):\n",
      "Unnamed: 0        8534 non-null int64\n",
      "reviews.rating    8534 non-null float64\n",
      "reviews.text      8534 non-null object\n",
      "review_title      8528 non-null object\n",
      "Hotels            8534 non-null object\n",
      "dtypes: float64(1), int64(1), object(3)\n",
      "memory usage: 333.4+ KB\n"
     ]
    }
   ],
   "source": [
    "reviews = pd.read_csv('./data/reviews.csv', engine='python' )\n",
    "reviews['review_text'] = reviews['review_text'].fillna(reviews['review_title'])\n",
    "reviews = reviews.rename(columns = {'rating_value':'reviews.rating','review_text':'reviews.text'})\n",
    "reviews.info()"
   ]
  },
  {
   "cell_type": "code",
   "execution_count": 11,
   "metadata": {},
   "outputs": [
    {
     "name": "stdout",
     "output_type": "stream",
     "text": [
      "<class 'pandas.core.frame.DataFrame'>\n",
      "Int64Index: 1694 entries, 0 to 1694\n",
      "Data columns (total 2 columns):\n",
      "reviews.rating    1694 non-null float64\n",
      "reviews.text      1694 non-null object\n",
      "dtypes: float64(1), object(1)\n",
      "memory usage: 39.7+ KB\n",
      "None\n"
     ]
    }
   ],
   "source": [
    "reviews_tr1=pd.read_csv('./data/kl_reviews_first_5.csv', engine='python' )\n",
    "reviews_tr1 = reviews_tr1.drop(['Unnamed: 0', 'review_link', 'review_hotel','review_date', 'stay_date', 'review_title'], 1)\n",
    "reviews_tr1 = reviews_tr1.rename(columns = {'review_rating':'reviews.rating','review_text':'reviews.text'})\n",
    "reviews_tr1 = reviews_tr1.dropna()\n",
    "print(reviews_tr1.info())"
   ]
  },
  {
   "cell_type": "code",
   "execution_count": 12,
   "metadata": {},
   "outputs": [
    {
     "name": "stdout",
     "output_type": "stream",
     "text": [
      "<class 'pandas.core.frame.DataFrame'>\n",
      "Int64Index: 781 entries, 1 to 1039\n",
      "Data columns (total 2 columns):\n",
      "reviews.rating    781 non-null float64\n",
      "reviews.text      781 non-null object\n",
      "dtypes: float64(1), object(1)\n",
      "memory usage: 18.3+ KB\n"
     ]
    }
   ],
   "source": [
    "reviews_tr2=pd.read_csv('./data/kl_reviews_last_5.csv', engine='python' )\n",
    "reviews_tr2 = reviews_tr2.drop(['Unnamed: 0', 'review_link', 'review_hotel','review_date', 'stay_date', 'review_title'], 1)\n",
    "reviews_tr2 = reviews_tr2.rename(columns = {'review_rating':'reviews.rating','review_text':'reviews.text'})\n",
    "reviews_tr2 = reviews_tr2.dropna()\n",
    "reviews_tr2.info()"
   ]
  },
  {
   "cell_type": "code",
   "execution_count": 13,
   "metadata": {
    "colab": {},
    "colab_type": "code",
    "id": "2W2xNUF0m-e0"
   },
   "outputs": [],
   "source": [
    "reviews_total = pd.concat([ \n",
    "                           reviews[['reviews.rating', 'reviews.text']],\n",
    "                           reviews_8k[['reviews.rating', 'reviews.text']],\n",
    "                           reviews_datafinity[['reviews.rating', 'reviews.text']],\n",
    "                           reviews_515[['reviews.rating', 'reviews.text']],\n",
    "                           reviews_tr1, reviews_tr2\n",
    "                          ],\n",
    "                          axis=0)\n",
    "\n",
    "\n",
    "reviews_total.reset_index(drop=True, inplace=True)\n",
    "reviews_total['reviews.rating']=reviews_total['reviews.rating'].apply(lambda x: round(x,1))"
   ]
  },
  {
   "cell_type": "code",
   "execution_count": 14,
   "metadata": {},
   "outputs": [
    {
     "name": "stdout",
     "output_type": "stream",
     "text": [
      "<class 'pandas.core.frame.DataFrame'>\n",
      "RangeIndex: 572659 entries, 0 to 572658\n",
      "Data columns (total 2 columns):\n",
      "reviews.rating    571797 non-null float64\n",
      "reviews.text      572636 non-null object\n",
      "dtypes: float64(1), object(1)\n",
      "memory usage: 8.7+ MB\n"
     ]
    }
   ],
   "source": [
    "reviews_total.info()"
   ]
  },
  {
   "cell_type": "code",
   "execution_count": 15,
   "metadata": {
    "colab": {},
    "colab_type": "code",
    "id": "rAcSJjouOAFV"
   },
   "outputs": [
    {
     "name": "stderr",
     "output_type": "stream",
     "text": [
      "/Users/kate/anaconda3/lib/python3.6/site-packages/nltk/twitter/__init__.py:20: UserWarning: The twython library has not been installed. Some functionality from the twitter package will not be available.\n",
      "  warnings.warn(\"The twython library has not been installed. \"\n"
     ]
    },
    {
     "name": "stdout",
     "output_type": "stream",
     "text": [
      "[nltk_data] Downloading package vader_lexicon to\n",
      "[nltk_data]     /Users/kate/nltk_data...\n",
      "[nltk_data]   Package vader_lexicon is already up-to-date!\n"
     ]
    }
   ],
   "source": [
    "from nltk.sentiment.vader import SentimentIntensityAnalyzer\n",
    "import nltk\n",
    "nltk.download('vader_lexicon')\n",
    "\n",
    "def NLTK_sentiment_analysis(text):\n",
    "\n",
    "    sid = SentimentIntensityAnalyzer()\n",
    "    return sid.polarity_scores(text)['compound']\n",
    "  \n",
    "reviews_total['reviews.text'] = reviews_total['reviews.text'].astype('str')  \n",
    "# reviews_total['polarity'] = reviews_total['reviews.text'].apply(NLTK_sentiment_analysis)"
   ]
  },
  {
   "cell_type": "code",
   "execution_count": 16,
   "metadata": {},
   "outputs": [
    {
     "name": "stdout",
     "output_type": "stream",
     "text": [
      "<class 'pandas.core.frame.DataFrame'>\n",
      "RangeIndex: 572659 entries, 0 to 572658\n",
      "Data columns (total 2 columns):\n",
      "reviews.rating    571797 non-null float64\n",
      "reviews.text      572659 non-null object\n",
      "dtypes: float64(1), object(1)\n",
      "memory usage: 8.7+ MB\n"
     ]
    }
   ],
   "source": [
    "reviews_total.info()"
   ]
  },
  {
   "cell_type": "code",
   "execution_count": 17,
   "metadata": {
    "colab": {},
    "colab_type": "code",
    "id": "43NKi2vFJy5D"
   },
   "outputs": [],
   "source": [
    "reviews_total[\"reviews.rating\"] = reviews_total[\"reviews.rating\"].apply(lambda x: 1 if x > 2 else 0)"
   ]
  },
  {
   "cell_type": "code",
   "execution_count": 18,
   "metadata": {
    "colab": {},
    "colab_type": "code",
    "id": "WGXWGD2IbbO6"
   },
   "outputs": [
    {
     "data": {
      "text/plain": [
       "1    537248\n",
       "0     35411\n",
       "Name: reviews.rating, dtype: int64"
      ]
     },
     "execution_count": 18,
     "metadata": {},
     "output_type": "execute_result"
    }
   ],
   "source": [
    "reviews_total['reviews.rating'].value_counts()"
   ]
  },
  {
   "cell_type": "code",
   "execution_count": 19,
   "metadata": {
    "colab": {},
    "colab_type": "code",
    "id": "eHpx8gylKhy-"
   },
   "outputs": [],
   "source": [
    "positive_train = reviews_total.loc[reviews_total['reviews.rating']==1]\n",
    "negative_train = reviews_total.loc[reviews_total['reviews.rating']==0]"
   ]
  },
  {
   "cell_type": "code",
   "execution_count": 20,
   "metadata": {
    "colab": {},
    "colab_type": "code",
    "id": "qRAnKEcPK2dm"
   },
   "outputs": [],
   "source": [
    "from sklearn.utils import resample\n",
    "\n",
    "negative_train = resample(negative_train, n_samples = 500000, replace=True, random_state=123)"
   ]
  },
  {
   "cell_type": "code",
   "execution_count": 21,
   "metadata": {
    "colab": {},
    "colab_type": "code",
    "id": "1-S1lBN3LURF"
   },
   "outputs": [],
   "source": [
    "reviews_total = pd.concat([positive_train,negative_train ], 0)\n",
    "reviews_total = reviews_total.dropna()"
   ]
  },
  {
   "cell_type": "code",
   "execution_count": 22,
   "metadata": {
    "colab": {},
    "colab_type": "code",
    "id": "KFH8bHbxH5Kf"
   },
   "outputs": [
    {
     "data": {
      "text/plain": [
       "1    537248\n",
       "0    500000\n",
       "Name: reviews.rating, dtype: int64"
      ]
     },
     "execution_count": 22,
     "metadata": {},
     "output_type": "execute_result"
    }
   ],
   "source": [
    "reviews_total[\"reviews.rating\"].value_counts()"
   ]
  },
  {
   "cell_type": "code",
   "execution_count": 23,
   "metadata": {
    "colab": {},
    "colab_type": "code",
    "id": "yUvbFYQA031M"
   },
   "outputs": [
    {
     "data": {
      "text/html": [
       "<div>\n",
       "<style scoped>\n",
       "    .dataframe tbody tr th:only-of-type {\n",
       "        vertical-align: middle;\n",
       "    }\n",
       "\n",
       "    .dataframe tbody tr th {\n",
       "        vertical-align: top;\n",
       "    }\n",
       "\n",
       "    .dataframe thead th {\n",
       "        text-align: right;\n",
       "    }\n",
       "</style>\n",
       "<table border=\"1\" class=\"dataframe\">\n",
       "  <thead>\n",
       "    <tr style=\"text-align: right;\">\n",
       "      <th></th>\n",
       "      <th>reviews.rating</th>\n",
       "      <th>reviews.text</th>\n",
       "    </tr>\n",
       "  </thead>\n",
       "  <tbody>\n",
       "    <tr>\n",
       "      <th>0</th>\n",
       "      <td>1</td>\n",
       "      <td>One of the best luxury properties in Singapore...</td>\n",
       "    </tr>\n",
       "    <tr>\n",
       "      <th>1</th>\n",
       "      <td>1</td>\n",
       "      <td>We love doing staycations here. Great location...</td>\n",
       "    </tr>\n",
       "    <tr>\n",
       "      <th>2</th>\n",
       "      <td>1</td>\n",
       "      <td>Expensive but nice place &lt;br/&gt;</td>\n",
       "    </tr>\n",
       "    <tr>\n",
       "      <th>3</th>\n",
       "      <td>1</td>\n",
       "      <td>It was a truly relaxing experience. The ambien...</td>\n",
       "    </tr>\n",
       "    <tr>\n",
       "      <th>4</th>\n",
       "      <td>1</td>\n",
       "      <td>Very relaxing. With very good breakfast &lt;br/&gt;</td>\n",
       "    </tr>\n",
       "    <tr>\n",
       "      <th>5</th>\n",
       "      <td>1</td>\n",
       "      <td>The main bar was closed for a private party (w...</td>\n",
       "    </tr>\n",
       "    <tr>\n",
       "      <th>6</th>\n",
       "      <td>1</td>\n",
       "      <td>Pros: Excellent and attentive service, from kn...</td>\n",
       "    </tr>\n",
       "    <tr>\n",
       "      <th>7</th>\n",
       "      <td>1</td>\n",
       "      <td>Customer service was very busy and hence, ther...</td>\n",
       "    </tr>\n",
       "    <tr>\n",
       "      <th>8</th>\n",
       "      <td>1</td>\n",
       "      <td>Not my first stay here and would definitely co...</td>\n",
       "    </tr>\n",
       "    <tr>\n",
       "      <th>9</th>\n",
       "      <td>1</td>\n",
       "      <td>All is perfect from room to services and great...</td>\n",
       "    </tr>\n",
       "    <tr>\n",
       "      <th>10</th>\n",
       "      <td>1</td>\n",
       "      <td>Superb stay to celebrate my lil one’s belated ...</td>\n",
       "    </tr>\n",
       "    <tr>\n",
       "      <th>11</th>\n",
       "      <td>1</td>\n",
       "      <td>Must Stay. &lt;br/&gt;</td>\n",
       "    </tr>\n",
       "    <tr>\n",
       "      <th>12</th>\n",
       "      <td>1</td>\n",
       "      <td>It is a very nice hotel, but a bit overpriced ...</td>\n",
       "    </tr>\n",
       "    <tr>\n",
       "      <th>13</th>\n",
       "      <td>1</td>\n",
       "      <td>Need to take shuttle bus out from the hotel to...</td>\n",
       "    </tr>\n",
       "    <tr>\n",
       "      <th>14</th>\n",
       "      <td>1</td>\n",
       "      <td>I would say majority of the staff did a very g...</td>\n",
       "    </tr>\n",
       "    <tr>\n",
       "      <th>16</th>\n",
       "      <td>1</td>\n",
       "      <td>Really an awesome staycation I had! Definitely...</td>\n",
       "    </tr>\n",
       "    <tr>\n",
       "      <th>17</th>\n",
       "      <td>1</td>\n",
       "      <td>Room and the surrounding are wonderful &lt;br/&gt;</td>\n",
       "    </tr>\n",
       "    <tr>\n",
       "      <th>18</th>\n",
       "      <td>1</td>\n",
       "      <td>Far from all the noise, very quiet and calming...</td>\n",
       "    </tr>\n",
       "    <tr>\n",
       "      <th>19</th>\n",
       "      <td>1</td>\n",
       "      <td>beautiful grounds that is surrounded by lush f...</td>\n",
       "    </tr>\n",
       "    <tr>\n",
       "      <th>21</th>\n",
       "      <td>1</td>\n",
       "      <td>The night operator staffs could have been frie...</td>\n",
       "    </tr>\n",
       "  </tbody>\n",
       "</table>\n",
       "</div>"
      ],
      "text/plain": [
       "    reviews.rating                                       reviews.text\n",
       "0                1  One of the best luxury properties in Singapore...\n",
       "1                1  We love doing staycations here. Great location...\n",
       "2                1                     Expensive but nice place <br/>\n",
       "3                1  It was a truly relaxing experience. The ambien...\n",
       "4                1      Very relaxing. With very good breakfast <br/>\n",
       "5                1  The main bar was closed for a private party (w...\n",
       "6                1  Pros: Excellent and attentive service, from kn...\n",
       "7                1  Customer service was very busy and hence, ther...\n",
       "8                1  Not my first stay here and would definitely co...\n",
       "9                1  All is perfect from room to services and great...\n",
       "10               1  Superb stay to celebrate my lil one’s belated ...\n",
       "11               1                                   Must Stay. <br/>\n",
       "12               1  It is a very nice hotel, but a bit overpriced ...\n",
       "13               1  Need to take shuttle bus out from the hotel to...\n",
       "14               1  I would say majority of the staff did a very g...\n",
       "16               1  Really an awesome staycation I had! Definitely...\n",
       "17               1       Room and the surrounding are wonderful <br/>\n",
       "18               1  Far from all the noise, very quiet and calming...\n",
       "19               1  beautiful grounds that is surrounded by lush f...\n",
       "21               1  The night operator staffs could have been frie..."
      ]
     },
     "execution_count": 23,
     "metadata": {},
     "output_type": "execute_result"
    }
   ],
   "source": [
    "reviews_total[:20]"
   ]
  },
  {
   "cell_type": "code",
   "execution_count": 24,
   "metadata": {
    "colab": {},
    "colab_type": "code",
    "id": "-OGzALB7KRbU"
   },
   "outputs": [],
   "source": [
    "reviews_for_training = reviews_total.copy(deep=True)"
   ]
  },
  {
   "cell_type": "code",
   "execution_count": 25,
   "metadata": {
    "colab": {},
    "colab_type": "code",
    "id": "o2KBC1Lsm-h2"
   },
   "outputs": [],
   "source": [
    "label = reviews_for_training['reviews.rating']\n",
    "train_set = reviews_for_training.drop('reviews.rating',1)\n"
   ]
  },
  {
   "cell_type": "code",
   "execution_count": 26,
   "metadata": {
    "colab": {},
    "colab_type": "code",
    "id": "bnCKK_Phm-nV"
   },
   "outputs": [
    {
     "name": "stdout",
     "output_type": "stream",
     "text": [
      "[nltk_data] Downloading package stopwords to /Users/kate/nltk_data...\n",
      "[nltk_data]   Package stopwords is already up-to-date!\n",
      "[['one', 'best', 'luxury', 'properties', 'singapore', 'absolute', 'bliss', 'peaceful', 'sea', 'views'], ['love', 'staycations', 'great', 'location', 'sentosa', 'right', 'near', 'beach', 'importantly', 'pet', 'friendly', 'able', 'enjoy', 'experience', 'dog'], ['expensive', 'nice', 'place'], ['truly', 'relaxing', 'experience', 'ambience', 'deco', 'room', 'exceptional', 'great', 'recharging', 'soul', 'like', 'complimentary', 'tea', 'time', 'setting', 'however', 'taste', 'cakes', 'desserts', 'improved', 'good', 'shuttle', 'bus', 'extended', 'hours', 'instead', 'current', 'sofitel', 'services', 'beyond'], ['relaxing', 'good', 'breakfast']]\n"
     ]
    }
   ],
   "source": [
    "from nltk.corpus import stopwords\n",
    "import nltk\n",
    "nltk.download('stopwords')\n",
    "stop = set(stopwords.words('english'))\n",
    "\n",
    "import re\n",
    "\n",
    "\n",
    "\n",
    "## Iterate over the data to preprocess by removing stopwords\n",
    "lines_without_stopwords=[] \n",
    "for line in train_set['reviews.text'].values: \n",
    "    line = line.lower()\n",
    "    line_by_words = re.findall(r'(?:\\w+)', line, flags = re.UNICODE) # remove punctuation ans split\n",
    "    new_line=[]\n",
    "    for word in line_by_words:\n",
    "        word = ''.join([i for i in word if not i.isdigit()])\n",
    "        if word not in stop and len(word)>2:\n",
    "            new_line.append(word)\n",
    "    lines_without_stopwords.append(new_line)\n",
    "texts = lines_without_stopwords\n",
    "\n",
    "print(texts[0:5]) \n"
   ]
  },
  {
   "cell_type": "code",
   "execution_count": 27,
   "metadata": {
    "colab": {},
    "colab_type": "code",
    "id": "kxhXQ5712THh"
   },
   "outputs": [
    {
     "data": {
      "text/plain": [
       "[['anniversary',\n",
       "  'staycation',\n",
       "  'appreciate',\n",
       "  'room',\n",
       "  'upgraded',\n",
       "  'hotel',\n",
       "  'kind',\n",
       "  'gift',\n",
       "  'bottle',\n",
       "  'wine',\n",
       "  'cons',\n",
       "  'kids',\n",
       "  'friendly',\n",
       "  'hotel',\n",
       "  'pool',\n",
       "  'weekend',\n",
       "  'swarmed',\n",
       "  'children',\n",
       "  'also',\n",
       "  'hotel',\n",
       "  'running',\n",
       "  'occupancy',\n",
       "  'asked',\n",
       "  'staff',\n",
       "  'enough',\n",
       "  'sun',\n",
       "  'beds',\n",
       "  'around'],\n",
       " ['place',\n",
       "  'pleasant',\n",
       "  'good',\n",
       "  'resort',\n",
       "  'stay',\n",
       "  'improvement',\n",
       "  'needs',\n",
       "  'done'],\n",
       " ['time',\n",
       "  'coming',\n",
       "  'capella',\n",
       "  'feel',\n",
       "  'time',\n",
       "  'standard',\n",
       "  'expected',\n",
       "  'previous',\n",
       "  'staffs',\n",
       "  'friendly',\n",
       "  'without',\n",
       "  'asking',\n",
       "  'things',\n",
       "  'done',\n",
       "  'perfectly',\n",
       "  'waiting',\n",
       "  'villa',\n",
       "  'ready',\n",
       "  'lobby',\n",
       "  'refreshments',\n",
       "  'table',\n",
       "  'cleared',\n",
       "  'manager',\n",
       "  'came',\n",
       "  'ask',\n",
       "  'serve',\n",
       "  'second',\n",
       "  'round',\n",
       "  'refreshments',\n",
       "  'told',\n",
       "  'first',\n",
       "  'even',\n",
       "  'belong',\n",
       "  'stay',\n",
       "  'villa',\n",
       "  'previous',\n",
       "  'times',\n",
       "  'need',\n",
       "  'call',\n",
       "  'buggy',\n",
       "  'arrives',\n",
       "  'within',\n",
       "  'mins',\n",
       "  'time',\n",
       "  'call',\n",
       "  'times',\n",
       "  'without',\n",
       "  'confirming',\n",
       "  'assured',\n",
       "  'rider',\n",
       "  'way',\n",
       "  'disappointing',\n",
       "  'staycation',\n",
       "  'really',\n",
       "  'hope',\n",
       "  'next',\n",
       "  'stay',\n",
       "  'much',\n",
       "  'better'],\n",
       " ['time',\n",
       "  'staying',\n",
       "  'capella',\n",
       "  'villa',\n",
       "  'huge',\n",
       "  'clean',\n",
       "  'many',\n",
       "  'room',\n",
       "  'facilities',\n",
       "  'housekeeping',\n",
       "  'also',\n",
       "  'attentive',\n",
       "  'needs',\n",
       "  'making',\n",
       "  'room',\n",
       "  'afternoon',\n",
       "  'came',\n",
       "  'around',\n",
       "  'evening',\n",
       "  'make',\n",
       "  'sure',\n",
       "  'everything',\n",
       "  'need',\n",
       "  'pools',\n",
       "  'big',\n",
       "  'nice',\n",
       "  'really',\n",
       "  'enjoyed',\n",
       "  'stay',\n",
       "  'definitely',\n",
       "  'come',\n",
       "  'back',\n",
       "  'staff',\n",
       "  'also',\n",
       "  'gave',\n",
       "  'complimentary',\n",
       "  'wine',\n",
       "  'bday',\n",
       "  'cake',\n",
       "  'celebration',\n",
       "  'heartfelt',\n",
       "  'service',\n",
       "  'thank',\n",
       "  'diana',\n",
       "  'team',\n",
       "  'great',\n",
       "  'service'],\n",
       " ['side',\n",
       "  'staying',\n",
       "  'hotel',\n",
       "  'sentosa',\n",
       "  'need',\n",
       "  'travel',\n",
       "  'quite',\n",
       "  'bit',\n",
       "  'get',\n",
       "  'city',\n",
       "  'centre',\n",
       "  'looking',\n",
       "  'idyllic',\n",
       "  'holiday',\n",
       "  'staycation',\n",
       "  'intending',\n",
       "  'hotel',\n",
       "  'much',\n",
       "  'perfect']]"
      ]
     },
     "execution_count": 27,
     "metadata": {},
     "output_type": "execute_result"
    }
   ],
   "source": [
    "texts[20:25]"
   ]
  },
  {
   "cell_type": "code",
   "execution_count": 28,
   "metadata": {
    "colab": {},
    "colab_type": "code",
    "id": "Z3rYM1Oeytmh"
   },
   "outputs": [
    {
     "name": "stdout",
     "output_type": "stream",
     "text": [
      "Found 94411 unique tokens.\n",
      "[[  0   0   0   0   0   0   0   0   0   0   0   0   0   0   0   0   0   0\n",
      "    0   0   0   0   0   0   0   0   0   0   0   0   0   0   0   0   0   0\n",
      "    0   0   0   0   0   0   0   0   0   0   0   0   0   0   0   0   0   0\n",
      "    0   0   0   0   0   0   0   0   0   0   0   0   0   0   0   0   0   0\n",
      "    0   0   0   0   0   0   0   0   0   0   0   0   0   0   0   0   0   0\n",
      "    0   0   0   0   0   0  15  96 933 433]\n",
      " [  0   0   0   0   0   0   0   0   0   0   0   0   0   0   0   0   0   0\n",
      "    0   0   0   0   0   0   0   0   0   0   0   0   0   0   0   0   0   0\n",
      "    0   0   0   0   0   0   0   0   0   0   0   0   0   0   0   0   0   0\n",
      "    0   0   0   0   0   0   0   0   0   0   0   0   0   0   0   0   0   0\n",
      "    0   0   0   0   0   0   0   0   0   0   0   0   0   0   0   0 415   7\n",
      "    4  93 111 314 739  13 295 526  99 681]\n",
      " [  0   0   0   0   0   0   0   0   0   0   0   0   0   0   0   0   0   0\n",
      "    0   0   0   0   0   0   0   0   0   0   0   0   0   0   0   0   0   0\n",
      "    0   0   0   0   0   0   0   0   0   0   0   0   0   0   0   0   0   0\n",
      "    0   0   0   0   0   0   0   0   0   0   0   0   0   0   0   0   0   0\n",
      "    0   0   0   0   0   0   0   0   0   0   0   0   0   0   0   0   0   0\n",
      "    0   0   0   0   0   0   0 117  11  29]\n",
      " [  0   0   0   0   0   0   0   0   0   0   0   0   0   0   0   0   0   0\n",
      "    0   0   0   0   0   0   0   0   0   0   0   0   0   0   0   0   0   0\n",
      "    0   0   0   0   0   0   0   0   0   0   0   0   0   0   0   0   0   0\n",
      "    0   0   0   0   0   0   0   0   0   0   0   0   0   0   0   0   0   0\n",
      "    0   0   0   0   0   0   0   0   0   0   0 700  99   1 984   7  21 352\n",
      "  203  26 129   6 459 353 232 453 512 931]\n",
      " [  0   0   0   0   0   0   0   0   0   0   0   0   0   0   0   0   0   0\n",
      "    0   0   0   0   0   0   0   0   0   0   0   0   0   0   0   0   0   0\n",
      "    0   0   0   0   0   0   0   0   0   0   0   0   0   0   0   0   0   0\n",
      "    0   0   0   0   0   0   0   0   0   0   0   0   0   0   0   0   0   0\n",
      "    0   0   0   0   0   0   0   0   0   0   0   0   0   0   0   0   0   0\n",
      "    0   0   0   0   0   0   0 700   6   5]]\n",
      "(1037248, 100)\n",
      "(1037248, 2)\n"
     ]
    }
   ],
   "source": [
    "from keras.preprocessing.text import Tokenizer\n",
    "from keras.preprocessing.sequence import pad_sequences\n",
    "from keras.utils import to_categorical\n",
    "from sklearn.model_selection import train_test_split\n",
    "\n",
    "\n",
    "MAX_NUM_WORDS = 1000\n",
    "MAX_SEQUENCE_LENGTH = 100\n",
    "tokenizer = Tokenizer(num_words=MAX_NUM_WORDS)\n",
    "tokenizer.fit_on_texts(texts)\n",
    "sequences = tokenizer.texts_to_sequences(texts)\n",
    "\n",
    "word_index = tokenizer.word_index\n",
    "print('Found %s unique tokens.' % len(word_index))\n",
    "\n",
    "data = pad_sequences(sequences, maxlen=MAX_SEQUENCE_LENGTH)\n",
    "print(data[:5])\n",
    "\n",
    "labels = to_categorical(np.asarray(label))\n",
    "print(data.shape)\n",
    "print(labels.shape)\n",
    "\n",
    "# X_train, X_test, y_train, y_test = train_test_split(data, labels, random_state=42, test_size=0.2)"
   ]
  },
  {
   "cell_type": "code",
   "execution_count": 31,
   "metadata": {},
   "outputs": [],
   "source": [
    "with open('tokenizer1.pickle', 'wb') as handle:\n",
    "    pickle.dump(tokenizer, handle, protocol=pickle.HIGHEST_PROTOCOL)"
   ]
  },
  {
   "cell_type": "code",
   "execution_count": 32,
   "metadata": {
    "colab": {},
    "colab_type": "code",
    "id": "HCNVJzB0Ul5q"
   },
   "outputs": [],
   "source": [
    "# data = pd.DataFrame(data)\n",
    "# print(data.head())\n",
    "# print(data.shape)\n"
   ]
  },
  {
   "cell_type": "code",
   "execution_count": 33,
   "metadata": {
    "colab": {},
    "colab_type": "code",
    "id": "CY6PO_Z4VARm"
   },
   "outputs": [],
   "source": [
    "# train_set = train_set.reset_index(drop=True)\n",
    "# data['polarity_score']= train_set['polarity']"
   ]
  },
  {
   "cell_type": "code",
   "execution_count": 34,
   "metadata": {
    "colab": {},
    "colab_type": "code",
    "id": "93v_Pn3vyxf3"
   },
   "outputs": [],
   "source": [
    "from keras.layers import Embedding\n",
    "from keras.initializers import Constant\n",
    "\n",
    "## EMBEDDING_DIM =  ## seems to need to match the embeddings_index dimension\n",
    "EMBEDDING_DIM = embeddings_index.get('a').shape[0]\n",
    "num_words = min(MAX_NUM_WORDS, len(word_index)) + 1\n",
    "embedding_matrix = np.zeros((num_words, EMBEDDING_DIM))\n",
    "for word, i in word_index.items():\n",
    "    if i > MAX_NUM_WORDS:\n",
    "        continue\n",
    "    embedding_vector = embeddings_index.get(word) ## This references the loaded embeddings dictionary\n",
    "    if embedding_vector is not None:\n",
    "        # words not found in embedding index will be all-zeros.\n",
    "        embedding_matrix[i] = embedding_vector\n",
    "\n",
    "# load pre-trained word embeddings into an Embedding layer\n",
    "# note that we set trainable = False so as to keep the embeddings fixed\n",
    "embedding_layer = Embedding(num_words,\n",
    "                            EMBEDDING_DIM,\n",
    "                            embeddings_initializer=Constant(embedding_matrix),\n",
    "                            input_length=MAX_SEQUENCE_LENGTH,\n",
    "                            trainable=False)"
   ]
  },
  {
   "cell_type": "code",
   "execution_count": 35,
   "metadata": {
    "colab": {},
    "colab_type": "code",
    "id": "2w9pviGRyxix"
   },
   "outputs": [],
   "source": [
    "from keras.models import Sequential\n",
    "from keras.layers import Dense, Flatten, LSTM, Conv1D, MaxPooling1D, Dropout, Activation\n",
    "\n",
    "model = Sequential()\n",
    "model.add(Embedding(num_words, 300, input_length=100, weights= [embedding_matrix], trainable=False))\n",
    "\n",
    "model.add(Dropout(0.1))\n",
    "model.add(Conv1D(32, 5, activation='relu'))\n",
    "model.add(MaxPooling1D(pool_size=4))\n",
    "model.add(LSTM(100))\n",
    "model.add(Dense(2, activation='sigmoid'))\n",
    "\n",
    "model.compile(loss='binary_crossentropy', optimizer='adam', metrics=['accuracy'])"
   ]
  },
  {
   "cell_type": "code",
   "execution_count": 36,
   "metadata": {
    "colab": {},
    "colab_type": "code",
    "id": "dH0NiA0E_QaH"
   },
   "outputs": [],
   "source": [
    "X_train, X_test, y_train, y_test = train_test_split(data, labels, random_state=42, test_size=0.2)"
   ]
  },
  {
   "cell_type": "code",
   "execution_count": 37,
   "metadata": {
    "colab": {},
    "colab_type": "code",
    "id": "C1XU_xe4yxmD"
   },
   "outputs": [
    {
     "name": "stdout",
     "output_type": "stream",
     "text": [
      "(1037248, 2)\n",
      "Train on 746818 samples, validate on 82980 samples\n",
      "Epoch 1/5\n",
      "746818/746818 [==============================] - 1995s 3ms/step - loss: 0.3487 - acc: 0.8471 - val_loss: 0.3046 - val_acc: 0.8719\n",
      "Epoch 2/5\n",
      "746818/746818 [==============================] - 2130s 3ms/step - loss: 0.2917 - acc: 0.8765 - val_loss: 0.2705 - val_acc: 0.8881\n",
      "Epoch 3/5\n",
      "746818/746818 [==============================] - 2636s 4ms/step - loss: 0.2676 - acc: 0.8887 - val_loss: 0.2562 - val_acc: 0.8954\n",
      "Epoch 4/5\n",
      "746818/746818 [==============================] - 2199s 3ms/step - loss: 0.2549 - acc: 0.8945 - val_loss: 0.2480 - val_acc: 0.8993\n",
      "Epoch 5/5\n",
      "746818/746818 [==============================] - 2223s 3ms/step - loss: 0.2478 - acc: 0.8980 - val_loss: 0.2446 - val_acc: 0.9012\n"
     ]
    },
    {
     "data": {
      "text/plain": [
       "<keras.callbacks.History at 0x1a340fd7f0>"
      ]
     },
     "execution_count": 37,
     "metadata": {},
     "output_type": "execute_result"
    }
   ],
   "source": [
    "print(labels.shape)\n",
    "model.fit(X_train, y_train, validation_split=0.1, epochs = 5)"
   ]
  },
  {
   "cell_type": "code",
   "execution_count": 38,
   "metadata": {
    "colab": {},
    "colab_type": "code",
    "id": "KmnDd-UC22XW"
   },
   "outputs": [
    {
     "name": "stdout",
     "output_type": "stream",
     "text": [
      "Acc: 0.9018944323933478\n",
      "0.9025843484891444\n",
      "[[92608  7681]\n",
      " [12671 94490]]\n"
     ]
    }
   ],
   "source": [
    "from sklearn.metrics import accuracy_score, f1_score, precision_score, recall_score, classification_report, confusion_matrix, roc_auc_score \n",
    "\n",
    "pred = model.predict(X_test)\n",
    "pred = np.round(pred)\n",
    "print('Acc:',accuracy_score(y_test, pred))\n",
    "print(roc_auc_score(y_test, pred))\n",
    "print(confusion_matrix(y_test.argmax(axis=1), pred.argmax(axis=1)))\n"
   ]
  },
  {
   "cell_type": "code",
   "execution_count": 39,
   "metadata": {
    "colab": {},
    "colab_type": "code",
    "id": "zcdV4EW1CtBn"
   },
   "outputs": [
    {
     "name": "stdout",
     "output_type": "stream",
     "text": [
      "             precision    recall  f1-score   support\n",
      "\n",
      "          0       0.88      0.92      0.90    100289\n",
      "          1       0.92      0.88      0.90    107161\n",
      "\n",
      "avg / total       0.90      0.90      0.90    207450\n",
      "\n"
     ]
    }
   ],
   "source": [
    "from sklearn.metrics import classification_report\n",
    "print(classification_report(y_test, pred))"
   ]
  },
  {
   "cell_type": "code",
   "execution_count": 40,
   "metadata": {},
   "outputs": [],
   "source": [
    "import pickle\n",
    "filename = 'Sentiment_model_1_2.pkl'\n",
    "pickle.dump(model, open(filename, 'wb'))"
   ]
  }
 ],
 "metadata": {
  "accelerator": "GPU",
  "colab": {
   "name": "Untitled0.ipynb",
   "provenance": [],
   "version": "0.3.2"
  },
  "kernelspec": {
   "display_name": "Python 3",
   "language": "python",
   "name": "python3"
  },
  "language_info": {
   "codemirror_mode": {
    "name": "ipython",
    "version": 3
   },
   "file_extension": ".py",
   "mimetype": "text/x-python",
   "name": "python",
   "nbconvert_exporter": "python",
   "pygments_lexer": "ipython3",
   "version": "3.6.5"
  }
 },
 "nbformat": 4,
 "nbformat_minor": 1
}
